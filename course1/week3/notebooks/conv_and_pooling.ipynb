{
 "cells": [
  {
   "cell_type": "code",
   "execution_count": null,
   "metadata": {},
   "outputs": [],
   "source": [
    "import cv2\n",
    "import numpy as np\n",
    "from scipy import misc\n",
    "i = misc.ascent()\n",
    "import matplotlib.pyplot as plt"
   ]
  },
  {
   "cell_type": "code",
   "execution_count": null,
   "metadata": {},
   "outputs": [],
   "source": [
    "def plot(image):\n",
    "    plt.grid(False)\n",
    "    plt.gray()\n",
    "    plt.imshow(image)\n",
    "    plt.show()"
   ]
  },
  {
   "cell_type": "code",
   "execution_count": null,
   "metadata": {},
   "outputs": [],
   "source": [
    "# This filter detects edges nicely\n",
    "# It creates a convolution that only passes \n",
    "# through sharp edges and straight lines.\n",
    "\n",
    "# Experiment with different values for fun effects.\n",
    "filter1 = [[0, 1, 0], [1, -4, 1], [0, 1, 0]]\n",
    "\n",
    "# A couple more filters to try for fun!\n",
    "filter2 = [[-1, -2, -1], [0, 0, 0], [1, 2, 1]] # vertical features\n",
    "filter3 = [[-1, 0, 1], [-2, 0, 2], [-1, 0, 1]] # horizontal features\n",
    "\n",
    "# If all the digits in the filter don't add up to 0 or 1, you \n",
    "# should probably do a weight to get it to do so\n",
    "# so, for example, if your weights are 1,1,1 1,2,1 1,1,1\n",
    "# They add up to 10, so you would set a weight of .1 if you want to normalize them\n",
    "weight  = 1"
   ]
  },
  {
   "cell_type": "markdown",
   "metadata": {},
   "source": [
    "### convolution"
   ]
  },
  {
   "cell_type": "code",
   "execution_count": null,
   "metadata": {},
   "outputs": [],
   "source": [
    "def conv2D(filter, weight, i):\n",
    "    i_transformed = np.copy(i)\n",
    "    size_x = i_transformed.shape[0]\n",
    "    size_y = i_transformed.shape[1]\n",
    "    \n",
    "    for x in range(1, size_x - 1):\n",
    "        for y in range(1, size_y - 1):\n",
    "            convolution = 0.0\n",
    "            convolution = convolution + (i[x - 1, y-1] * filter[0][0])\n",
    "            convolution = convolution + (i[x, y-1] * filter[0][1])\n",
    "            convolution = convolution + (i[x + 1, y-1] * filter[0][2])\n",
    "            convolution = convolution + (i[x-1, y] * filter[1][0])\n",
    "            convolution = convolution + (i[x, y] * filter[1][1])\n",
    "            convolution = convolution + (i[x+1, y] * filter[1][2])\n",
    "            convolution = convolution + (i[x-1, y+1] * filter[2][0])\n",
    "            convolution = convolution + (i[x, y+1] * filter[2][1])\n",
    "            convolution = convolution + (i[x+1, y+1] * filter[2][2])\n",
    "            convolution = convolution * weight\n",
    "            if(convolution < 0):\n",
    "                convolution = 0\n",
    "            if(convolution > 255):\n",
    "                convolution = 255\n",
    "            i_transformed[x, y] = convolution\n",
    "    return i_transformed"
   ]
  },
  {
   "cell_type": "code",
   "execution_count": null,
   "metadata": {},
   "outputs": [],
   "source": [
    "i_transformed = conv2D(filter2, weight, i)\n",
    "i_transformed.shape"
   ]
  },
  {
   "cell_type": "code",
   "execution_count": null,
   "metadata": {},
   "outputs": [],
   "source": [
    "# Plot the image. Note the size of the axes -- they are 512 by 512\n",
    "plot(i_transformed)"
   ]
  },
  {
   "cell_type": "markdown",
   "metadata": {},
   "source": [
    "### Pooling"
   ]
  },
  {
   "cell_type": "code",
   "execution_count": null,
   "metadata": {},
   "outputs": [],
   "source": [
    "def pooling2D(i_transformed):\n",
    "    size_x = i_transformed.shape[0]\n",
    "    size_y = i_transformed.shape[1]\n",
    "    new_x = int(size_x/2)\n",
    "    new_y = int(size_y/2)\n",
    "    newImage = np.zeros((new_x, new_y))\n",
    "    \n",
    "    for x in range(0, size_x, 2):\n",
    "      for y in range(0, size_y, 2):\n",
    "        pixels = []\n",
    "        pixels.append(i_transformed[x, y])\n",
    "        pixels.append(i_transformed[x+1, y])\n",
    "        pixels.append(i_transformed[x, y+1])\n",
    "        pixels.append(i_transformed[x+1, y+1])\n",
    "        newImage[int(x/2),int(y/2)] = max(pixels)\n",
    "    return newImage"
   ]
  },
  {
   "cell_type": "code",
   "execution_count": null,
   "metadata": {},
   "outputs": [],
   "source": [
    "newImage = pooling2D(i_transformed)"
   ]
  },
  {
   "cell_type": "code",
   "execution_count": null,
   "metadata": {},
   "outputs": [],
   "source": [
    "# Plot the image. Note the size of the axes -- now 256 pixels instead of 512\n",
    "plot(newImage)"
   ]
  }
 ],
 "metadata": {
  "kernelspec": {
   "display_name": "dl-tf-coursera",
   "language": "python",
   "name": "dl-tf-coursera"
  },
  "language_info": {
   "codemirror_mode": {
    "name": "ipython",
    "version": 3
   },
   "file_extension": ".py",
   "mimetype": "text/x-python",
   "name": "python",
   "nbconvert_exporter": "python",
   "pygments_lexer": "ipython3",
   "version": "3.6.6"
  }
 },
 "nbformat": 4,
 "nbformat_minor": 2
}
